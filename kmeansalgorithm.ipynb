{
 "cells": [
  {
   "cell_type": "code",
   "execution_count": 109,
   "metadata": {},
   "outputs": [
    {
     "name": "stdout",
     "output_type": "stream",
     "text": [
      "[10, 20, 30, 40, 50, 90, 60, 10, 70, 80, 290, 10, 20, 30]\n"
     ]
    }
   ],
   "source": [
    "# kmeans clustering \n",
    "# first I will make list for dataset in which I will perform clustering K mean\n",
    "\n",
    "# # iteraion1c1[30,20]\n",
    "# iteration1c2[40,30]\n",
    "xlist=[10,20,30,40,50,90,60,10,70,80,290,10,20,30]\n",
    "\n",
    "print(xlist)\n"
   ]
  },
  {
   "cell_type": "code",
   "execution_count": 110,
   "metadata": {},
   "outputs": [
    {
     "name": "stdout",
     "output_type": "stream",
     "text": [
      "40\n",
      "50\n",
      "14\n"
     ]
    }
   ],
   "source": [
    "# Xlist=data\n",
    "# now waht I do I will select two clusters u can even select more than 2 but for this \n",
    "# I will select 2 clusters 2 groups, 2 partition from following list\n",
    "# you can even select first two data enteries of list as Cluster\n",
    "# I will select random\n",
    "# list is a data structure\n",
    "c1=xlist[3];\n",
    "c2=xlist[4];\n",
    "print(c1);\n",
    "#print(c1);\n",
    "print(c2);\n",
    "# sized contain list length of your datset\n",
    "sized=len(xlist);\n",
    "print(sized)\n",
    "\n",
    "\n",
    "\n",
    "# c1 has 40\n",
    "# c2 has 50\n",
    "# which I will show you through printf\n",
    "\n",
    "\n",
    "# here c1 and c2 will be called as centroids \n"
   ]
  },
  {
   "cell_type": "code",
   "execution_count": 111,
   "metadata": {},
   "outputs": [
    {
     "name": "stdout",
     "output_type": "stream",
     "text": [
      "<class 'int'>\n",
      "<class 'int'>\n",
      "[[0, 40, 10, 20, 30, 240]]\n",
      "[[30, 20, 10, 0, 30, 30, 20, 10]]\n",
      "<class 'tuple'>\n",
      "<class 'int'>\n",
      "<class 'int'>\n",
      "[[16, 36, 26, 184]]\n",
      "[[11, 1, 9, 19, 29, 39, 11, 11, 1, 9]]\n"
     ]
    }
   ],
   "source": [
    "# now we will apply any distance algorithm\n",
    "# In this I will apply manhattan \n",
    "# creating listi ng for4 saving iertaion 1 val\n",
    "\n",
    "def kmeansalg(c1,c2):\n",
    "    c1=int(c1);\n",
    "    print(type(c1));\n",
    "    c2=int(c2);\n",
    "    print(type(c2));\n",
    "    iter1c1=[]; # will contain the res of taking manhatten dist for cluster1 \n",
    "    iter1c2=[];   # will contain the res of taking the manhatten dist for cluster2 \n",
    "# In first iteration\n",
    "\n",
    "    dictiter1={'cluster1': [], 'cluster2': []}\n",
    "    distlist1=[];\n",
    "    distlist2=[];\n",
    "    listx=[];\n",
    "    listy=[];\n",
    "    j=0;\n",
    "    for i in xlist:\n",
    "        res=c1-i;\n",
    "        res2=c2-i;\n",
    "        iter1c1.append(abs(res));\n",
    "        iter1c2.append(abs(res2));\n",
    "    \n",
    "    # Now we have to sign our datset val to any of the two clusters either c1 or c2 \n",
    "# decide on basis of min distance\n",
    "# now I am going to make dictionary also datastructure\n",
    "# if both  dist decide random \n",
    "    \n",
    "        if iter1c1[j]<=iter1c2[j]:\n",
    "            distlist1.append(iter1c1[j]);\n",
    "            listx.append(i);\n",
    "        else:\n",
    "            distlist2.append(iter1c2[j]);\n",
    "            listy.append(i);\n",
    "        j=j+1;\n",
    "    \n",
    "    \n",
    "    dictiter1[\"cluster1\"].append(distlist1);\n",
    "    dictiter1[\"cluster2\"].append(distlist2);\n",
    "\n",
    "    \n",
    "    print(dictiter1['cluster2']);\n",
    "    print(dictiter1['cluster1']);\n",
    "    \n",
    "#print(\"for average \",listx);\n",
    "    avg1=sum(listx) /len(listx)\n",
    "    #print(avg1)\n",
    "    avg2=sum(listy) /len(listy)\n",
    "    #print(avg2)\n",
    "    return avg1,avg2;\n",
    "    \n",
    "    \n",
    "    \n",
    "    # ____________________________________________________ #\n",
    "    \n",
    "\n",
    "output=kmeansalg(c1,c2);\n",
    "print(type(output))\n",
    "int(output[0])\n",
    "int(output[1]);\n",
    "newc1=output[0];\n",
    "newc2=output[1];\n",
    "kmeansalg(newc1,newc2);\n",
    "\n",
    "\n"
   ]
  },
  {
   "cell_type": "code",
   "execution_count": null,
   "metadata": {},
   "outputs": [],
   "source": [
    "\n",
    "\n"
   ]
  },
  {
   "cell_type": "code",
   "execution_count": null,
   "metadata": {},
   "outputs": [],
   "source": []
  },
  {
   "cell_type": "code",
   "execution_count": null,
   "metadata": {},
   "outputs": [],
   "source": []
  },
  {
   "cell_type": "code",
   "execution_count": null,
   "metadata": {},
   "outputs": [],
   "source": []
  },
  {
   "cell_type": "code",
   "execution_count": null,
   "metadata": {},
   "outputs": [],
   "source": []
  }
 ],
 "metadata": {
  "kernelspec": {
   "display_name": "Python 3",
   "language": "python",
   "name": "python3"
  },
  "language_info": {
   "codemirror_mode": {
    "name": "ipython",
    "version": 3
   },
   "file_extension": ".py",
   "mimetype": "text/x-python",
   "name": "python",
   "nbconvert_exporter": "python",
   "pygments_lexer": "ipython3",
   "version": "3.8.3"
  }
 },
 "nbformat": 4,
 "nbformat_minor": 4
}
